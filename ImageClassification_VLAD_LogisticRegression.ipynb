{
 "cells": [
  {
   "cell_type": "code",
   "execution_count": 1,
   "metadata": {
    "id": "uy0TOD9AgBMS"
   },
   "outputs": [],
   "source": [
    "import pickle\n",
    "import cv2 as cv\n",
    "import numpy as np\n",
    "from scipy.cluster.vq import kmeans, vq\n",
    "from sklearn.cluster import MiniBatchKMeans, KMeans\n",
    "from sklearn.preprocessing import StandardScaler\n",
    "import pandas as pd\n",
    "from sklearn.metrics import confusion_matrix,accuracy_score\n",
    "import warnings\n",
    "warnings.filterwarnings('ignore')"
   ]
  },
  {
   "cell_type": "code",
   "execution_count": 2,
   "metadata": {
    "colab": {
     "base_uri": "https://localhost:8080/"
    },
    "id": "sWWdKWY05Xtj",
    "outputId": "3f4dfeb0-adee-4c9e-b5e0-b84ee700b479"
   },
   "outputs": [
    {
     "name": "stdout",
     "output_type": "stream",
     "text": [
      "Drive already mounted at /content/drive; to attempt to forcibly remount, call drive.mount(\"/content/drive\", force_remount=True).\n"
     ]
    }
   ],
   "source": [
    "from google.colab import drive\n",
    "drive.mount('/content/drive')"
   ]
  },
  {
   "cell_type": "code",
   "execution_count": 3,
   "metadata": {
    "id": "t-AUVAXVjV2U"
   },
   "outputs": [],
   "source": [
    "# ! pip install opencv-contrib-python==3.4.2.16"
   ]
  },
  {
   "cell_type": "code",
   "execution_count": 4,
   "metadata": {
    "id": "63Ynqfy1jh6_"
   },
   "outputs": [],
   "source": [
    "def unpickle(file):\n",
    "    with open(file, 'rb') as fo:\n",
    "        dict = pickle.load(fo, encoding='bytes')\n",
    "    return dict"
   ]
  },
  {
   "cell_type": "code",
   "execution_count": 5,
   "metadata": {
    "id": "BZd8Htx_jiT_"
   },
   "outputs": [],
   "source": [
    "dict1 = unpickle('/content/drive/MyDrive/Visual Recognition/cifar-10-batches-py/data_batch_1')\n",
    "dict2 = unpickle('/content/drive/MyDrive/Visual Recognition/cifar-10-batches-py/data_batch_2')\n",
    "dict3 = unpickle('/content/drive/MyDrive/Visual Recognition/cifar-10-batches-py/data_batch_3')\n",
    "dict4 = unpickle('/content/drive/MyDrive/Visual Recognition/cifar-10-batches-py/data_batch_4')\n",
    "dict5 = unpickle('/content/drive/MyDrive/Visual Recognition/cifar-10-batches-py/data_batch_5')"
   ]
  },
  {
   "cell_type": "code",
   "execution_count": 6,
   "metadata": {
    "id": "1fxGg7u-jk-x"
   },
   "outputs": [],
   "source": [
    "arr = np.array(dict1.get(b'data'))\n",
    "arr = np.append(arr, dict2.get(b'data'), axis = 0)\n",
    "arr = np.append(arr, dict3.get(b'data'), axis = 0)\n",
    "arr = np.append(arr, dict4.get(b'data'), axis = 0)\n",
    "arr = np.append(arr, dict5.get(b'data'), axis = 0)\n",
    "arr = np.array(arr)"
   ]
  },
  {
   "cell_type": "code",
   "execution_count": 7,
   "metadata": {
    "colab": {
     "base_uri": "https://localhost:8080/"
    },
    "id": "DpT0shJSASTY",
    "outputId": "ec0a6abc-b04a-472e-8afe-0d5ac6db3564"
   },
   "outputs": [
    {
     "data": {
      "text/plain": [
       "(10000, 3072)"
      ]
     },
     "execution_count": 7,
     "metadata": {
      "tags": []
     },
     "output_type": "execute_result"
    }
   ],
   "source": [
    "# Loading the Test Data\n",
    "dict_test = unpickle('/content/drive/MyDrive/Visual Recognition/cifar-10-batches-py/test_batch')\n",
    "arr_test = np.array(dict_test.get(b'data'))\n",
    "arr_test.shape"
   ]
  },
  {
   "cell_type": "code",
   "execution_count": 8,
   "metadata": {
    "id": "QrDMIrsTjo28"
   },
   "outputs": [],
   "source": [
    "extractor = cv.xfeatures2d.SURF_create()\n",
    "\n",
    "def features(image, extractor):\n",
    "    extractor.setHessianThreshold(400)\n",
    "    keypoints, descriptors = extractor.detectAndCompute(image, None)\n",
    "    return keypoints, descriptors"
   ]
  },
  {
   "cell_type": "code",
   "execution_count": 9,
   "metadata": {
    "id": "YdzxxSEuz7Pt"
   },
   "outputs": [],
   "source": [
    "def getDescriptors(arr) : \n",
    "    descriptors = []\n",
    "    \n",
    "    for i in range(len(arr)) :\n",
    "        img = arr[i].reshape(32, 32, 3)\n",
    "        gray_img = cv.cvtColor(img, cv.COLOR_RGB2GRAY) \n",
    "        gray_img = cv.resize(gray_img, (160, 160), interpolation = cv.INTER_AREA)\n",
    "        kp, des = features(gray_img, extractor)\n",
    "        if des is not None : \n",
    "            descriptors.append(des)\n",
    "            \n",
    "    descriptors = np.concatenate(descriptors, axis=0)\n",
    "    descriptors = np.asarray(descriptors)\n",
    "        \n",
    "    return descriptors"
   ]
  },
  {
   "cell_type": "code",
   "execution_count": 10,
   "metadata": {
    "id": "_6al5aie0c3F"
   },
   "outputs": [],
   "source": [
    "# descriptors = getDescriptors(arr)\n",
    "# descriptors_test = getDescriptors(arr_test)\n",
    "all_descriptors = getDescriptors(np.concatenate((arr, arr_test), axis = 0))"
   ]
  },
  {
   "cell_type": "code",
   "execution_count": 11,
   "metadata": {
    "colab": {
     "base_uri": "https://localhost:8080/"
    },
    "id": "A-F2wEKH0lbj",
    "outputId": "193656da-f27f-44b7-bbaf-7de24ae7894f"
   },
   "outputs": [
    {
     "name": "stdout",
     "output_type": "stream",
     "text": [
      "Descriptors shape = (7999252, 64)\n"
     ]
    }
   ],
   "source": [
    "print('Descriptors shape =', all_descriptors.shape)"
   ]
  },
  {
   "cell_type": "code",
   "execution_count": 12,
   "metadata": {
    "id": "kK3JFB2gpR06"
   },
   "outputs": [],
   "source": [
    "def VLAD(X, visualDictionary) : \n",
    "    \n",
    "    predictedLabels = visualDictionary.predict(X)\n",
    "    centers = visualDictionary.cluster_centers_\n",
    "    labels = visualDictionary.labels_\n",
    "    k = visualDictionary.n_clusters\n",
    "    \n",
    "    m,d = X.shape\n",
    "    V=np.zeros([k,d])\n",
    "    #computing the differences\n",
    "\n",
    "    # for all the clusters (visual words)\n",
    "    for i in range(k):\n",
    "        # if there is at least one descriptor in that cluster\n",
    "        if np.sum(predictedLabels==i)>0:\n",
    "            # add the diferences\n",
    "            V[i]=np.sum(X[predictedLabels==i,:]-centers[i],axis=0)\n",
    "    \n",
    "\n",
    "    V = V.flatten()\n",
    "    # power normalization, also called square-rooting normalization\n",
    "    V = np.sign(V)*np.sqrt(np.abs(V))\n",
    "\n",
    "    # L2 normalization\n",
    "    V = V/np.sqrt(np.dot(V,V))\n",
    "    \n",
    "    return V"
   ]
  },
  {
   "cell_type": "code",
   "execution_count": 13,
   "metadata": {
    "id": "HRIzKgsGl0pM"
   },
   "outputs": [],
   "source": [
    "def getVLADDescriptors(images, images_lables, visualDic):\n",
    "    descriptors = []\n",
    "    labels = []\n",
    "    \n",
    "    count = 0\n",
    "    for image in images : \n",
    "        image = image.reshape(32, 32, 3)\n",
    "        image = cv.cvtColor(image, cv.COLOR_RGB2GRAY)\n",
    "        image = cv.resize(image, (160, 160), interpolation = cv.INTER_AREA)\n",
    "        kp, des = features(image, extractor)\n",
    "        if des is not None : \n",
    "            v = VLAD(des, visualDic)\n",
    "            descriptors.append(v)\n",
    "            labels.append(images_lables[count])\n",
    "        count += 1            \n",
    "            \n",
    "    descriptors = np.asarray(descriptors)\n",
    "    return descriptors, labels"
   ]
  },
  {
   "cell_type": "code",
   "execution_count": 14,
   "metadata": {
    "id": "MfKzRPlpphKj"
   },
   "outputs": [],
   "source": [
    "k = 20\n",
    "visDic = MiniBatchKMeans(init='k-means++', n_clusters = k, max_iter=1000, batch_size=1000, n_init=10, max_no_improvement=10, \n",
    "                         verbose=0).fit(all_descriptors)\n",
    "# visDic = KMeans(n_clusters = k, random_state=0).fit(all_descriptors)"
   ]
  },
  {
   "cell_type": "code",
   "execution_count": 15,
   "metadata": {
    "colab": {
     "base_uri": "https://localhost:8080/"
    },
    "id": "bdcdj7LvtFuw",
    "outputId": "ff1a918a-bac3-4f7f-bb56-0e136276f697"
   },
   "outputs": [
    {
     "name": "stdout",
     "output_type": "stream",
     "text": [
      "(50000,)\n"
     ]
    }
   ],
   "source": [
    "y_train = np.array(dict1.get(b'labels'))\n",
    "y_train = np.append(y_train, dict2.get(b'labels'), axis = 0)\n",
    "y_train = np.append(y_train, dict3.get(b'labels'), axis = 0)\n",
    "y_train = np.append(y_train, dict4.get(b'labels'), axis = 0)\n",
    "y_train = np.append(y_train, dict5.get(b'labels'), axis = 0)\n",
    "print(y_train.shape)"
   ]
  },
  {
   "cell_type": "code",
   "execution_count": 16,
   "metadata": {
    "id": "GyEXYprr5f3U"
   },
   "outputs": [],
   "source": [
    "train_features, train_labels = getVLADDescriptors(arr, y_train, visDic)\n",
    "test_features, test_labels = getVLADDescriptors(arr_test, dict_test.get(b'labels'), visDic)"
   ]
  },
  {
   "cell_type": "code",
   "execution_count": 17,
   "metadata": {
    "colab": {
     "base_uri": "https://localhost:8080/"
    },
    "id": "OcLz3a-88e9A",
    "outputId": "b1b760f3-ca07-4d43-da69-9e7f2e7ae93b"
   },
   "outputs": [
    {
     "name": "stdout",
     "output_type": "stream",
     "text": [
      "For Training\n",
      "Features shape = 50000\n",
      "Labels shape 50000\n",
      "***********************************\n",
      "For Testing\n",
      "Features shape = 10000\n",
      "Labels shape 10000\n"
     ]
    }
   ],
   "source": [
    "print('For Training')\n",
    "print('Features shape =', len(train_features))\n",
    "print('Labels shape', len(train_labels))\n",
    "print('***********************************')\n",
    "print('For Testing')\n",
    "print('Features shape =', len(test_features))\n",
    "print('Labels shape', len(test_labels))"
   ]
  },
  {
   "cell_type": "code",
   "execution_count": 18,
   "metadata": {
    "id": "8UMgYpMg80W7"
   },
   "outputs": [],
   "source": [
    "stdslr = StandardScaler().fit(train_features)\n",
    "train_features = stdslr.transform(train_features)\n",
    "test_features = stdslr.fit_transform(test_features) "
   ]
  },
  {
   "cell_type": "code",
   "execution_count": 19,
   "metadata": {
    "colab": {
     "base_uri": "https://localhost:8080/"
    },
    "id": "vQinY9Zv1UXP",
    "outputId": "ec307644-cb6b-41fb-8afc-e0f0d350b631"
   },
   "outputs": [
    {
     "data": {
      "text/plain": [
       "LogisticRegression(C=1.0, class_weight=None, dual=False, fit_intercept=True,\n",
       "                   intercept_scaling=1, l1_ratio=None, max_iter=100,\n",
       "                   multi_class='auto', n_jobs=-1, penalty='l2',\n",
       "                   random_state=None, solver='lbfgs', tol=0.0001, verbose=0,\n",
       "                   warm_start=False)"
      ]
     },
     "execution_count": 19,
     "metadata": {
      "tags": []
     },
     "output_type": "execute_result"
    }
   ],
   "source": [
    "from sklearn.svm import LinearSVC\n",
    "from sklearn.linear_model import LogisticRegression\n",
    "from sklearn.svm import SVC\n",
    "from sklearn.neighbors import KNeighborsClassifier\n",
    "\n",
    "clf = LogisticRegression(n_jobs = -1)\n",
    "# clf = LinearSVC(max_iter = 80000)\n",
    "# clf=LinearSVC()\n",
    "# clf = SVC(max_iter = 6000)\n",
    "# clf = KNeighborsClassifier(n_neighbors = 3, n_jobs = -1)\n",
    "clf.fit(train_features, np.array(train_labels))"
   ]
  },
  {
   "cell_type": "code",
   "execution_count": 20,
   "metadata": {
    "id": "dnF0q5t9HiaK"
   },
   "outputs": [],
   "source": [
    "# Predicting the labels using the trained model obtained\n",
    "predict_label = clf.predict(test_features)"
   ]
  },
  {
   "cell_type": "code",
   "execution_count": 21,
   "metadata": {
    "colab": {
     "base_uri": "https://localhost:8080/"
    },
    "id": "r_pPVYCQGocU",
    "outputId": "ba9a2992-2090-4df7-e8be-3eeac0a0d508"
   },
   "outputs": [
    {
     "name": "stdout",
     "output_type": "stream",
     "text": [
      "0.3896\n"
     ]
    }
   ],
   "source": [
    "accuracy = accuracy_score(test_labels, predict_label)\n",
    "print(accuracy)"
   ]
  },
  {
   "cell_type": "code",
   "execution_count": 22,
   "metadata": {
    "colab": {
     "base_uri": "https://localhost:8080/",
     "height": 1000
    },
    "id": "jLdRuBZXi0y3",
    "outputId": "d266897f-4dae-4c37-dc51-5e7b66ca2593"
   },
   "outputs": [
    {
     "data": {
      "text/html": [
       "<div>\n",
       "<style scoped>\n",
       "    .dataframe tbody tr th:only-of-type {\n",
       "        vertical-align: middle;\n",
       "    }\n",
       "\n",
       "    .dataframe tbody tr th {\n",
       "        vertical-align: top;\n",
       "    }\n",
       "\n",
       "    .dataframe thead th {\n",
       "        text-align: right;\n",
       "    }\n",
       "</style>\n",
       "<table border=\"1\" class=\"dataframe\">\n",
       "  <thead>\n",
       "    <tr style=\"text-align: right;\">\n",
       "      <th></th>\n",
       "      <th>True</th>\n",
       "      <th>Predicted</th>\n",
       "    </tr>\n",
       "  </thead>\n",
       "  <tbody>\n",
       "    <tr>\n",
       "      <th>0</th>\n",
       "      <td>3</td>\n",
       "      <td>6</td>\n",
       "    </tr>\n",
       "    <tr>\n",
       "      <th>1</th>\n",
       "      <td>8</td>\n",
       "      <td>9</td>\n",
       "    </tr>\n",
       "    <tr>\n",
       "      <th>2</th>\n",
       "      <td>8</td>\n",
       "      <td>8</td>\n",
       "    </tr>\n",
       "    <tr>\n",
       "      <th>3</th>\n",
       "      <td>0</td>\n",
       "      <td>8</td>\n",
       "    </tr>\n",
       "    <tr>\n",
       "      <th>4</th>\n",
       "      <td>6</td>\n",
       "      <td>6</td>\n",
       "    </tr>\n",
       "    <tr>\n",
       "      <th>5</th>\n",
       "      <td>6</td>\n",
       "      <td>4</td>\n",
       "    </tr>\n",
       "    <tr>\n",
       "      <th>6</th>\n",
       "      <td>1</td>\n",
       "      <td>6</td>\n",
       "    </tr>\n",
       "    <tr>\n",
       "      <th>7</th>\n",
       "      <td>6</td>\n",
       "      <td>4</td>\n",
       "    </tr>\n",
       "    <tr>\n",
       "      <th>8</th>\n",
       "      <td>3</td>\n",
       "      <td>4</td>\n",
       "    </tr>\n",
       "    <tr>\n",
       "      <th>9</th>\n",
       "      <td>1</td>\n",
       "      <td>5</td>\n",
       "    </tr>\n",
       "    <tr>\n",
       "      <th>10</th>\n",
       "      <td>0</td>\n",
       "      <td>8</td>\n",
       "    </tr>\n",
       "    <tr>\n",
       "      <th>11</th>\n",
       "      <td>9</td>\n",
       "      <td>9</td>\n",
       "    </tr>\n",
       "    <tr>\n",
       "      <th>12</th>\n",
       "      <td>5</td>\n",
       "      <td>5</td>\n",
       "    </tr>\n",
       "    <tr>\n",
       "      <th>13</th>\n",
       "      <td>7</td>\n",
       "      <td>5</td>\n",
       "    </tr>\n",
       "    <tr>\n",
       "      <th>14</th>\n",
       "      <td>9</td>\n",
       "      <td>9</td>\n",
       "    </tr>\n",
       "    <tr>\n",
       "      <th>15</th>\n",
       "      <td>8</td>\n",
       "      <td>7</td>\n",
       "    </tr>\n",
       "    <tr>\n",
       "      <th>16</th>\n",
       "      <td>5</td>\n",
       "      <td>6</td>\n",
       "    </tr>\n",
       "    <tr>\n",
       "      <th>17</th>\n",
       "      <td>7</td>\n",
       "      <td>7</td>\n",
       "    </tr>\n",
       "    <tr>\n",
       "      <th>18</th>\n",
       "      <td>8</td>\n",
       "      <td>0</td>\n",
       "    </tr>\n",
       "    <tr>\n",
       "      <th>19</th>\n",
       "      <td>6</td>\n",
       "      <td>3</td>\n",
       "    </tr>\n",
       "    <tr>\n",
       "      <th>20</th>\n",
       "      <td>7</td>\n",
       "      <td>7</td>\n",
       "    </tr>\n",
       "    <tr>\n",
       "      <th>21</th>\n",
       "      <td>0</td>\n",
       "      <td>2</td>\n",
       "    </tr>\n",
       "    <tr>\n",
       "      <th>22</th>\n",
       "      <td>4</td>\n",
       "      <td>2</td>\n",
       "    </tr>\n",
       "    <tr>\n",
       "      <th>23</th>\n",
       "      <td>9</td>\n",
       "      <td>9</td>\n",
       "    </tr>\n",
       "    <tr>\n",
       "      <th>24</th>\n",
       "      <td>5</td>\n",
       "      <td>4</td>\n",
       "    </tr>\n",
       "    <tr>\n",
       "      <th>25</th>\n",
       "      <td>2</td>\n",
       "      <td>9</td>\n",
       "    </tr>\n",
       "    <tr>\n",
       "      <th>26</th>\n",
       "      <td>4</td>\n",
       "      <td>9</td>\n",
       "    </tr>\n",
       "    <tr>\n",
       "      <th>27</th>\n",
       "      <td>0</td>\n",
       "      <td>9</td>\n",
       "    </tr>\n",
       "    <tr>\n",
       "      <th>28</th>\n",
       "      <td>9</td>\n",
       "      <td>3</td>\n",
       "    </tr>\n",
       "    <tr>\n",
       "      <th>29</th>\n",
       "      <td>6</td>\n",
       "      <td>6</td>\n",
       "    </tr>\n",
       "    <tr>\n",
       "      <th>30</th>\n",
       "      <td>6</td>\n",
       "      <td>1</td>\n",
       "    </tr>\n",
       "    <tr>\n",
       "      <th>31</th>\n",
       "      <td>5</td>\n",
       "      <td>4</td>\n",
       "    </tr>\n",
       "    <tr>\n",
       "      <th>32</th>\n",
       "      <td>4</td>\n",
       "      <td>4</td>\n",
       "    </tr>\n",
       "    <tr>\n",
       "      <th>33</th>\n",
       "      <td>5</td>\n",
       "      <td>9</td>\n",
       "    </tr>\n",
       "    <tr>\n",
       "      <th>34</th>\n",
       "      <td>9</td>\n",
       "      <td>9</td>\n",
       "    </tr>\n",
       "    <tr>\n",
       "      <th>35</th>\n",
       "      <td>2</td>\n",
       "      <td>9</td>\n",
       "    </tr>\n",
       "    <tr>\n",
       "      <th>36</th>\n",
       "      <td>4</td>\n",
       "      <td>2</td>\n",
       "    </tr>\n",
       "    <tr>\n",
       "      <th>37</th>\n",
       "      <td>1</td>\n",
       "      <td>8</td>\n",
       "    </tr>\n",
       "    <tr>\n",
       "      <th>38</th>\n",
       "      <td>9</td>\n",
       "      <td>7</td>\n",
       "    </tr>\n",
       "    <tr>\n",
       "      <th>39</th>\n",
       "      <td>5</td>\n",
       "      <td>4</td>\n",
       "    </tr>\n",
       "    <tr>\n",
       "      <th>40</th>\n",
       "      <td>4</td>\n",
       "      <td>1</td>\n",
       "    </tr>\n",
       "    <tr>\n",
       "      <th>41</th>\n",
       "      <td>6</td>\n",
       "      <td>2</td>\n",
       "    </tr>\n",
       "    <tr>\n",
       "      <th>42</th>\n",
       "      <td>5</td>\n",
       "      <td>1</td>\n",
       "    </tr>\n",
       "    <tr>\n",
       "      <th>43</th>\n",
       "      <td>6</td>\n",
       "      <td>9</td>\n",
       "    </tr>\n",
       "    <tr>\n",
       "      <th>44</th>\n",
       "      <td>0</td>\n",
       "      <td>0</td>\n",
       "    </tr>\n",
       "    <tr>\n",
       "      <th>45</th>\n",
       "      <td>9</td>\n",
       "      <td>9</td>\n",
       "    </tr>\n",
       "    <tr>\n",
       "      <th>46</th>\n",
       "      <td>3</td>\n",
       "      <td>3</td>\n",
       "    </tr>\n",
       "    <tr>\n",
       "      <th>47</th>\n",
       "      <td>9</td>\n",
       "      <td>3</td>\n",
       "    </tr>\n",
       "    <tr>\n",
       "      <th>48</th>\n",
       "      <td>7</td>\n",
       "      <td>4</td>\n",
       "    </tr>\n",
       "    <tr>\n",
       "      <th>49</th>\n",
       "      <td>6</td>\n",
       "      <td>4</td>\n",
       "    </tr>\n",
       "  </tbody>\n",
       "</table>\n",
       "</div>"
      ],
      "text/plain": [
       "    True  Predicted\n",
       "0      3          6\n",
       "1      8          9\n",
       "2      8          8\n",
       "3      0          8\n",
       "4      6          6\n",
       "5      6          4\n",
       "6      1          6\n",
       "7      6          4\n",
       "8      3          4\n",
       "9      1          5\n",
       "10     0          8\n",
       "11     9          9\n",
       "12     5          5\n",
       "13     7          5\n",
       "14     9          9\n",
       "15     8          7\n",
       "16     5          6\n",
       "17     7          7\n",
       "18     8          0\n",
       "19     6          3\n",
       "20     7          7\n",
       "21     0          2\n",
       "22     4          2\n",
       "23     9          9\n",
       "24     5          4\n",
       "25     2          9\n",
       "26     4          9\n",
       "27     0          9\n",
       "28     9          3\n",
       "29     6          6\n",
       "30     6          1\n",
       "31     5          4\n",
       "32     4          4\n",
       "33     5          9\n",
       "34     9          9\n",
       "35     2          9\n",
       "36     4          2\n",
       "37     1          8\n",
       "38     9          7\n",
       "39     5          4\n",
       "40     4          1\n",
       "41     6          2\n",
       "42     5          1\n",
       "43     6          9\n",
       "44     0          0\n",
       "45     9          9\n",
       "46     3          3\n",
       "47     9          3\n",
       "48     7          4\n",
       "49     6          4"
      ]
     },
     "execution_count": 22,
     "metadata": {
      "tags": []
     },
     "output_type": "execute_result"
    }
   ],
   "source": [
    "df = pd.DataFrame({'True' : test_labels, 'Predicted' : predict_label})\n",
    "df.head(50)"
   ]
  }
 ],
 "metadata": {
  "accelerator": "TPU",
  "colab": {
   "collapsed_sections": [],
   "name": "VLAD_LR_Modified.ipynb",
   "provenance": []
  },
  "kernelspec": {
   "display_name": "Python 3",
   "language": "python",
   "name": "python3"
  },
  "language_info": {
   "codemirror_mode": {
    "name": "ipython",
    "version": 3
   },
   "file_extension": ".py",
   "mimetype": "text/x-python",
   "name": "python",
   "nbconvert_exporter": "python",
   "pygments_lexer": "ipython3",
   "version": "3.6.11"
  }
 },
 "nbformat": 4,
 "nbformat_minor": 1
}
