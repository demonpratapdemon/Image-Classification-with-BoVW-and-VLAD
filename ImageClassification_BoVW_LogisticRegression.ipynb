{
  "nbformat": 4,
  "nbformat_minor": 0,
  "metadata": {
    "colab": {
      "name": "VR_Classification_BoVW.ipynb",
      "provenance": [],
      "collapsed_sections": []
    },
    "kernelspec": {
      "display_name": "Python 3",
      "language": "python",
      "name": "python3"
    },
    "language_info": {
      "codemirror_mode": {
        "name": "ipython",
        "version": 3
      },
      "file_extension": ".py",
      "mimetype": "text/x-python",
      "name": "python",
      "nbconvert_exporter": "python",
      "pygments_lexer": "ipython3",
      "version": "3.6.11"
    }
  },
  "cells": [
    {
      "cell_type": "code",
      "metadata": {
        "id": "NVgePYxyLL5c"
      },
      "source": [
        "import pickle\n",
        "import cv2 as cv\n",
        "import numpy as np\n",
        "from scipy.cluster.vq import kmeans, vq\n",
        "from sklearn.preprocessing import StandardScaler\n",
        "import pandas as pd\n",
        "from sklearn.metrics import confusion_matrix, accuracy_score"
      ],
      "execution_count": 1,
      "outputs": []
    },
    {
      "cell_type": "code",
      "metadata": {
        "id": "uVmibar4Lv9H",
        "colab": {
          "base_uri": "https://localhost:8080/"
        },
        "outputId": "357ded23-78d4-446c-f5fd-b7312a0ea510"
      },
      "source": [
        "# ! pip install opencv-python==3.4.2.16\r\n",
        "# ! pip install opencv-contrib-python==3.4.2.16"
      ],
      "execution_count": 2,
      "outputs": [
        {
          "output_type": "stream",
          "text": [
            "Requirement already satisfied: opencv-contrib-python==3.4.2.16 in /usr/local/lib/python3.6/dist-packages (3.4.2.16)\n",
            "Requirement already satisfied: numpy>=1.11.3 in /usr/local/lib/python3.6/dist-packages (from opencv-contrib-python==3.4.2.16) (1.19.5)\n"
          ],
          "name": "stdout"
        }
      ]
    },
    {
      "cell_type": "code",
      "metadata": {
        "id": "cOPL2V-JqsmR",
        "colab": {
          "base_uri": "https://localhost:8080/"
        },
        "outputId": "8250b9b0-692f-4bd4-b69e-c897519fdc93"
      },
      "source": [
        "from google.colab import drive\n",
        "drive.mount('/content/drive')"
      ],
      "execution_count": 3,
      "outputs": [
        {
          "output_type": "stream",
          "text": [
            "Drive already mounted at /content/drive; to attempt to forcibly remount, call drive.mount(\"/content/drive\", force_remount=True).\n"
          ],
          "name": "stdout"
        }
      ]
    },
    {
      "cell_type": "code",
      "metadata": {
        "id": "uVpqlSfXLL5o"
      },
      "source": [
        "def unpickle(file):\n",
        "    with open(file, 'rb') as fo:\n",
        "        dict = pickle.load(fo, encoding='bytes')\n",
        "    return dict"
      ],
      "execution_count": 4,
      "outputs": []
    },
    {
      "cell_type": "code",
      "metadata": {
        "id": "yTn5NFzFLL5q"
      },
      "source": [
        "dict1 = unpickle('/content/drive/MyDrive/Visual Recognition/cifar-10-batches-py/data_batch_1')\n",
        "dict2 = unpickle('/content/drive/MyDrive/Visual Recognition/cifar-10-batches-py/data_batch_2')\n",
        "dict3 = unpickle('/content/drive/MyDrive/Visual Recognition/cifar-10-batches-py/data_batch_3')\n",
        "dict4 = unpickle('/content/drive/MyDrive/Visual Recognition/cifar-10-batches-py/data_batch_4')\n",
        "dict5 = unpickle('/content/drive/MyDrive/Visual Recognition/cifar-10-batches-py/data_batch_5')"
      ],
      "execution_count": 5,
      "outputs": []
    },
    {
      "cell_type": "code",
      "metadata": {
        "id": "9EnO8TNuLL5r"
      },
      "source": [
        "arr = np.array(dict1.get(b'data'))\n",
        "arr = np.append(arr, dict2.get(b'data'), axis = 0)\n",
        "arr = np.append(arr, dict3.get(b'data'), axis = 0)\n",
        "arr = np.append(arr, dict4.get(b'data'), axis = 0)\n",
        "arr = np.append(arr, dict5.get(b'data'), axis = 0)"
      ],
      "execution_count": 6,
      "outputs": []
    },
    {
      "cell_type": "code",
      "metadata": {
        "id": "LypDv6p7LL5r"
      },
      "source": [
        "# arr = np.array(dict.get(b'data'))\n",
        "arr = np.array(arr)"
      ],
      "execution_count": 7,
      "outputs": []
    },
    {
      "cell_type": "code",
      "metadata": {
        "id": "xXc73emFLL5u"
      },
      "source": [
        "# extractor = cv.xfeatures2d.SIFT_create()\n",
        "extractor = cv.xfeatures2d.SURF_create()\n",
        "\n",
        "def features(image, extractor):\n",
        "    keypoints, descriptors = extractor.detectAndCompute(image, None)\n",
        "    return [keypoints, descriptors]"
      ],
      "execution_count": 8,
      "outputs": []
    },
    {
      "cell_type": "code",
      "metadata": {
        "id": "gYkzNyddLL5v"
      },
      "source": [
        "descriptor_list = []\n",
        "for i in range(len(arr)) : \n",
        "    img = arr[i].reshape(32, 32, 3)\n",
        "    gray_img = cv.cvtColor(img, cv.COLOR_RGB2GRAY)\n",
        "    gray_img = cv.resize(gray_img, (50, 50), interpolation = cv.INTER_AREA)\n",
        "    keypoints, descriptors = features(gray_img, extractor)\n",
        "    descriptor_list.append((i, descriptors))"
      ],
      "execution_count": 9,
      "outputs": []
    },
    {
      "cell_type": "code",
      "metadata": {
        "id": "YHr7LcbtLL5v"
      },
      "source": [
        "descriptors = descriptor_list[0][1]\n",
        "for image_path, descriptor in descriptor_list[1:] :\n",
        "    if descriptor is not None :\n",
        "        descriptors = np.vstack((descriptors, descriptor))"
      ],
      "execution_count": 10,
      "outputs": []
    },
    {
      "cell_type": "code",
      "metadata": {
        "id": "SSkXf0-5LL5w",
        "colab": {
          "base_uri": "https://localhost:8080/"
        },
        "outputId": "9e6ce3f8-2738-425d-f926-b53fe98d7683"
      },
      "source": [
        "descriptors.shape"
      ],
      "execution_count": 11,
      "outputs": [
        {
          "output_type": "execute_result",
          "data": {
            "text/plain": [
              "(302597, 64)"
            ]
          },
          "metadata": {
            "tags": []
          },
          "execution_count": 11
        }
      ]
    },
    {
      "cell_type": "code",
      "metadata": {
        "id": "23judFFtLL5x"
      },
      "source": [
        "descriptors_float = descriptors.astype(np.float32)"
      ],
      "execution_count": 12,
      "outputs": []
    },
    {
      "cell_type": "code",
      "metadata": {
        "id": "mx28mLxiLL5y"
      },
      "source": [
        "k = 300\n",
        "voc, variance = kmeans(descriptors_float, k, 1)\n",
        "# voc i.e. the vocabulary is now our codebook"
      ],
      "execution_count": 13,
      "outputs": []
    },
    {
      "cell_type": "code",
      "metadata": {
        "id": "dlGO9r-9LL5y"
      },
      "source": [
        "# Creating the training data features using vq which maps all the words matching from the vocabulary\n",
        "im_features=np.zeros((len(arr), k), dtype = np.float32)\n",
        "for i in range(len(arr)):\n",
        "    if descriptor_list[i][1] is not None :\n",
        "        words, distance = vq(descriptor_list[i][1], voc)\n",
        "        for w in words :\n",
        "            im_features[i][w]+=1"
      ],
      "execution_count": 14,
      "outputs": []
    },
    {
      "cell_type": "code",
      "metadata": {
        "id": "p6d0L9dNLL5z"
      },
      "source": [
        "stdslr = StandardScaler().fit(im_features)\n",
        "im_features = stdslr.transform(im_features)"
      ],
      "execution_count": 15,
      "outputs": []
    },
    {
      "cell_type": "code",
      "metadata": {
        "id": "KPt8Vu2CLL53",
        "colab": {
          "base_uri": "https://localhost:8080/"
        },
        "outputId": "aadafd84-7ca2-4f49-bcdb-00461437e6f6"
      },
      "source": [
        "# Getting all the labels for all the images of the training data\n",
        "y_train = np.array(dict1.get(b'labels'))\n",
        "y_train = np.append(y_train, dict2.get(b'labels'), axis = 0)\n",
        "y_train = np.append(y_train, dict3.get(b'labels'), axis = 0)\n",
        "y_train = np.append(y_train, dict4.get(b'labels'), axis = 0)\n",
        "y_train = np.append(y_train, dict5.get(b'labels'), axis = 0)\n",
        "print(y_train.shape)"
      ],
      "execution_count": 16,
      "outputs": [
        {
          "output_type": "stream",
          "text": [
            "(50000,)\n"
          ],
          "name": "stdout"
        }
      ]
    },
    {
      "cell_type": "code",
      "metadata": {
        "id": "YHoygs0jLL54",
        "colab": {
          "base_uri": "https://localhost:8080/"
        },
        "outputId": "899c7120-ddb7-415a-a659-c216e2fe3db4"
      },
      "source": [
        "from sklearn.svm import LinearSVC\n",
        "from sklearn.linear_model import LogisticRegression\n",
        "from sklearn.svm import SVC\n",
        "from sklearn.neighbors import KNeighborsClassifier\n",
        "\n",
        "clf = LogisticRegression(n_jobs = -1, max_iter = 3000)\n",
        "# clf=LinearSVC(max_iter = 80000)\n",
        "# clf=LinearSVC()\n",
        "# clf = SVC(max_iter = 80000)\n",
        "# clf = KNeighborsClassifier(n_neighbors = 10, n_jobs = -1)\n",
        "clf.fit(im_features, np.array(y_train))"
      ],
      "execution_count": 17,
      "outputs": [
        {
          "output_type": "execute_result",
          "data": {
            "text/plain": [
              "LogisticRegression(C=1.0, class_weight=None, dual=False, fit_intercept=True,\n",
              "                   intercept_scaling=1, l1_ratio=None, max_iter=3000,\n",
              "                   multi_class='auto', n_jobs=-1, penalty='l2',\n",
              "                   random_state=None, solver='lbfgs', tol=0.0001, verbose=0,\n",
              "                   warm_start=False)"
            ]
          },
          "metadata": {
            "tags": []
          },
          "execution_count": 17
        }
      ]
    },
    {
      "cell_type": "code",
      "metadata": {
        "id": "4ztDjDI0LL54",
        "colab": {
          "base_uri": "https://localhost:8080/"
        },
        "outputId": "9ee04de4-e76e-4114-a952-9c8c1651b1eb"
      },
      "source": [
        "# Loading the Test Data\n",
        "dict_test = unpickle('/content/drive/MyDrive/Visual Recognition/cifar-10-batches-py/test_batch')\n",
        "arr_test = np.array(dict_test.get(b'data'))\n",
        "arr_test.shape"
      ],
      "execution_count": 18,
      "outputs": [
        {
          "output_type": "execute_result",
          "data": {
            "text/plain": [
              "(10000, 3072)"
            ]
          },
          "metadata": {
            "tags": []
          },
          "execution_count": 18
        }
      ]
    },
    {
      "cell_type": "code",
      "metadata": {
        "id": "EN9SVpu6LL55"
      },
      "source": [
        "des_list_test=[]\n",
        "\n",
        "for i in range(len(arr_test)) : \n",
        "    img = arr_test[i].reshape(32, 32, 3)\n",
        "    gray_img = cv.cvtColor(img, cv.COLOR_RGB2GRAY)\n",
        "    gray_img = cv.resize(gray_img, (50, 50), interpolation = cv.INTER_AREA)\n",
        "    keypoints_test, descriptors_test = features(gray_img, extractor)\n",
        "    des_list_test.append((i, descriptors_test))"
      ],
      "execution_count": 19,
      "outputs": []
    },
    {
      "cell_type": "code",
      "metadata": {
        "id": "So0Hx3e5LL55"
      },
      "source": [
        "# Matching the test features with the vocabulary obtained earlier using KMeans withcodebook size of 'k'\n",
        "test_features = np.zeros((len(arr_test), k), dtype =\"float32\")\n",
        "for i in range(len(arr_test)):\n",
        "    if des_list_test[i][1] is not None :\n",
        "      words,distance = vq(des_list_test[i][1].astype(float), voc)\n",
        "      for w in words:\n",
        "          test_features[i][w]+=1"
      ],
      "execution_count": 20,
      "outputs": []
    },
    {
      "cell_type": "code",
      "metadata": {
        "id": "jeTgPBiGLL55"
      },
      "source": [
        "test_features = stdslr.transform(test_features)"
      ],
      "execution_count": 21,
      "outputs": []
    },
    {
      "cell_type": "code",
      "metadata": {
        "id": "s4QiCXfYLL56"
      },
      "source": [
        "predict_label = clf.predict(test_features)"
      ],
      "execution_count": 22,
      "outputs": []
    },
    {
      "cell_type": "code",
      "metadata": {
        "id": "I_iyp6_ULL56"
      },
      "source": [
        "df = pd.DataFrame()\n",
        "df['Predicted'] = predict_label\n",
        "df['Actual'] = dict_test.get(b'labels')"
      ],
      "execution_count": 23,
      "outputs": []
    },
    {
      "cell_type": "code",
      "metadata": {
        "id": "mquU72dULL56",
        "colab": {
          "base_uri": "https://localhost:8080/"
        },
        "outputId": "e8c9eeb2-4a71-423e-eb7d-24fa4c5337ed"
      },
      "source": [
        "clf.score(test_features, dict_test.get(b'labels'))"
      ],
      "execution_count": 24,
      "outputs": [
        {
          "output_type": "execute_result",
          "data": {
            "text/plain": [
              "0.2452"
            ]
          },
          "metadata": {
            "tags": []
          },
          "execution_count": 24
        }
      ]
    },
    {
      "cell_type": "code",
      "metadata": {
        "id": "xvy5yPvpXzKe",
        "colab": {
          "base_uri": "https://localhost:8080/"
        },
        "outputId": "cee60de9-e5d7-426f-89a2-1e246afff789"
      },
      "source": [
        "accuracy=accuracy_score(dict_test.get(b'labels'), predict_label)\r\n",
        "print('Accuracy =', accuracy)"
      ],
      "execution_count": 25,
      "outputs": [
        {
          "output_type": "stream",
          "text": [
            "Accuracy = 0.2452\n"
          ],
          "name": "stdout"
        }
      ]
    },
    {
      "cell_type": "code",
      "metadata": {
        "id": "ME98ENCLxIxh",
        "colab": {
          "base_uri": "https://localhost:8080/",
          "height": 1000
        },
        "outputId": "f8795a90-0633-445b-85e0-379f9a42cbca"
      },
      "source": [
        "df.tail(50)"
      ],
      "execution_count": 26,
      "outputs": [
        {
          "output_type": "execute_result",
          "data": {
            "text/html": [
              "<div>\n",
              "<style scoped>\n",
              "    .dataframe tbody tr th:only-of-type {\n",
              "        vertical-align: middle;\n",
              "    }\n",
              "\n",
              "    .dataframe tbody tr th {\n",
              "        vertical-align: top;\n",
              "    }\n",
              "\n",
              "    .dataframe thead th {\n",
              "        text-align: right;\n",
              "    }\n",
              "</style>\n",
              "<table border=\"1\" class=\"dataframe\">\n",
              "  <thead>\n",
              "    <tr style=\"text-align: right;\">\n",
              "      <th></th>\n",
              "      <th>Predicted</th>\n",
              "      <th>Actual</th>\n",
              "    </tr>\n",
              "  </thead>\n",
              "  <tbody>\n",
              "    <tr>\n",
              "      <th>9950</th>\n",
              "      <td>7</td>\n",
              "      <td>3</td>\n",
              "    </tr>\n",
              "    <tr>\n",
              "      <th>9951</th>\n",
              "      <td>8</td>\n",
              "      <td>0</td>\n",
              "    </tr>\n",
              "    <tr>\n",
              "      <th>9952</th>\n",
              "      <td>7</td>\n",
              "      <td>5</td>\n",
              "    </tr>\n",
              "    <tr>\n",
              "      <th>9953</th>\n",
              "      <td>3</td>\n",
              "      <td>7</td>\n",
              "    </tr>\n",
              "    <tr>\n",
              "      <th>9954</th>\n",
              "      <td>0</td>\n",
              "      <td>0</td>\n",
              "    </tr>\n",
              "    <tr>\n",
              "      <th>9955</th>\n",
              "      <td>9</td>\n",
              "      <td>8</td>\n",
              "    </tr>\n",
              "    <tr>\n",
              "      <th>9956</th>\n",
              "      <td>6</td>\n",
              "      <td>0</td>\n",
              "    </tr>\n",
              "    <tr>\n",
              "      <th>9957</th>\n",
              "      <td>0</td>\n",
              "      <td>0</td>\n",
              "    </tr>\n",
              "    <tr>\n",
              "      <th>9958</th>\n",
              "      <td>5</td>\n",
              "      <td>9</td>\n",
              "    </tr>\n",
              "    <tr>\n",
              "      <th>9959</th>\n",
              "      <td>3</td>\n",
              "      <td>2</td>\n",
              "    </tr>\n",
              "    <tr>\n",
              "      <th>9960</th>\n",
              "      <td>0</td>\n",
              "      <td>2</td>\n",
              "    </tr>\n",
              "    <tr>\n",
              "      <th>9961</th>\n",
              "      <td>1</td>\n",
              "      <td>3</td>\n",
              "    </tr>\n",
              "    <tr>\n",
              "      <th>9962</th>\n",
              "      <td>0</td>\n",
              "      <td>4</td>\n",
              "    </tr>\n",
              "    <tr>\n",
              "      <th>9963</th>\n",
              "      <td>9</td>\n",
              "      <td>8</td>\n",
              "    </tr>\n",
              "    <tr>\n",
              "      <th>9964</th>\n",
              "      <td>6</td>\n",
              "      <td>2</td>\n",
              "    </tr>\n",
              "    <tr>\n",
              "      <th>9965</th>\n",
              "      <td>7</td>\n",
              "      <td>2</td>\n",
              "    </tr>\n",
              "    <tr>\n",
              "      <th>9966</th>\n",
              "      <td>4</td>\n",
              "      <td>6</td>\n",
              "    </tr>\n",
              "    <tr>\n",
              "      <th>9967</th>\n",
              "      <td>8</td>\n",
              "      <td>3</td>\n",
              "    </tr>\n",
              "    <tr>\n",
              "      <th>9968</th>\n",
              "      <td>3</td>\n",
              "      <td>3</td>\n",
              "    </tr>\n",
              "    <tr>\n",
              "      <th>9969</th>\n",
              "      <td>9</td>\n",
              "      <td>6</td>\n",
              "    </tr>\n",
              "    <tr>\n",
              "      <th>9970</th>\n",
              "      <td>4</td>\n",
              "      <td>2</td>\n",
              "    </tr>\n",
              "    <tr>\n",
              "      <th>9971</th>\n",
              "      <td>9</td>\n",
              "      <td>9</td>\n",
              "    </tr>\n",
              "    <tr>\n",
              "      <th>9972</th>\n",
              "      <td>9</td>\n",
              "      <td>4</td>\n",
              "    </tr>\n",
              "    <tr>\n",
              "      <th>9973</th>\n",
              "      <td>4</td>\n",
              "      <td>0</td>\n",
              "    </tr>\n",
              "    <tr>\n",
              "      <th>9974</th>\n",
              "      <td>1</td>\n",
              "      <td>1</td>\n",
              "    </tr>\n",
              "    <tr>\n",
              "      <th>9975</th>\n",
              "      <td>5</td>\n",
              "      <td>7</td>\n",
              "    </tr>\n",
              "    <tr>\n",
              "      <th>9976</th>\n",
              "      <td>7</td>\n",
              "      <td>5</td>\n",
              "    </tr>\n",
              "    <tr>\n",
              "      <th>9977</th>\n",
              "      <td>7</td>\n",
              "      <td>5</td>\n",
              "    </tr>\n",
              "    <tr>\n",
              "      <th>9978</th>\n",
              "      <td>8</td>\n",
              "      <td>7</td>\n",
              "    </tr>\n",
              "    <tr>\n",
              "      <th>9979</th>\n",
              "      <td>6</td>\n",
              "      <td>3</td>\n",
              "    </tr>\n",
              "    <tr>\n",
              "      <th>9980</th>\n",
              "      <td>0</td>\n",
              "      <td>0</td>\n",
              "    </tr>\n",
              "    <tr>\n",
              "      <th>9981</th>\n",
              "      <td>4</td>\n",
              "      <td>4</td>\n",
              "    </tr>\n",
              "    <tr>\n",
              "      <th>9982</th>\n",
              "      <td>8</td>\n",
              "      <td>2</td>\n",
              "    </tr>\n",
              "    <tr>\n",
              "      <th>9983</th>\n",
              "      <td>1</td>\n",
              "      <td>0</td>\n",
              "    </tr>\n",
              "    <tr>\n",
              "      <th>9984</th>\n",
              "      <td>8</td>\n",
              "      <td>7</td>\n",
              "    </tr>\n",
              "    <tr>\n",
              "      <th>9985</th>\n",
              "      <td>7</td>\n",
              "      <td>5</td>\n",
              "    </tr>\n",
              "    <tr>\n",
              "      <th>9986</th>\n",
              "      <td>0</td>\n",
              "      <td>8</td>\n",
              "    </tr>\n",
              "    <tr>\n",
              "      <th>9987</th>\n",
              "      <td>8</td>\n",
              "      <td>0</td>\n",
              "    </tr>\n",
              "    <tr>\n",
              "      <th>9988</th>\n",
              "      <td>1</td>\n",
              "      <td>8</td>\n",
              "    </tr>\n",
              "    <tr>\n",
              "      <th>9989</th>\n",
              "      <td>8</td>\n",
              "      <td>2</td>\n",
              "    </tr>\n",
              "    <tr>\n",
              "      <th>9990</th>\n",
              "      <td>4</td>\n",
              "      <td>7</td>\n",
              "    </tr>\n",
              "    <tr>\n",
              "      <th>9991</th>\n",
              "      <td>1</td>\n",
              "      <td>0</td>\n",
              "    </tr>\n",
              "    <tr>\n",
              "      <th>9992</th>\n",
              "      <td>5</td>\n",
              "      <td>3</td>\n",
              "    </tr>\n",
              "    <tr>\n",
              "      <th>9993</th>\n",
              "      <td>6</td>\n",
              "      <td>5</td>\n",
              "    </tr>\n",
              "    <tr>\n",
              "      <th>9994</th>\n",
              "      <td>7</td>\n",
              "      <td>3</td>\n",
              "    </tr>\n",
              "    <tr>\n",
              "      <th>9995</th>\n",
              "      <td>5</td>\n",
              "      <td>8</td>\n",
              "    </tr>\n",
              "    <tr>\n",
              "      <th>9996</th>\n",
              "      <td>8</td>\n",
              "      <td>3</td>\n",
              "    </tr>\n",
              "    <tr>\n",
              "      <th>9997</th>\n",
              "      <td>5</td>\n",
              "      <td>5</td>\n",
              "    </tr>\n",
              "    <tr>\n",
              "      <th>9998</th>\n",
              "      <td>7</td>\n",
              "      <td>1</td>\n",
              "    </tr>\n",
              "    <tr>\n",
              "      <th>9999</th>\n",
              "      <td>3</td>\n",
              "      <td>7</td>\n",
              "    </tr>\n",
              "  </tbody>\n",
              "</table>\n",
              "</div>"
            ],
            "text/plain": [
              "      Predicted  Actual\n",
              "9950          7       3\n",
              "9951          8       0\n",
              "9952          7       5\n",
              "9953          3       7\n",
              "9954          0       0\n",
              "9955          9       8\n",
              "9956          6       0\n",
              "9957          0       0\n",
              "9958          5       9\n",
              "9959          3       2\n",
              "9960          0       2\n",
              "9961          1       3\n",
              "9962          0       4\n",
              "9963          9       8\n",
              "9964          6       2\n",
              "9965          7       2\n",
              "9966          4       6\n",
              "9967          8       3\n",
              "9968          3       3\n",
              "9969          9       6\n",
              "9970          4       2\n",
              "9971          9       9\n",
              "9972          9       4\n",
              "9973          4       0\n",
              "9974          1       1\n",
              "9975          5       7\n",
              "9976          7       5\n",
              "9977          7       5\n",
              "9978          8       7\n",
              "9979          6       3\n",
              "9980          0       0\n",
              "9981          4       4\n",
              "9982          8       2\n",
              "9983          1       0\n",
              "9984          8       7\n",
              "9985          7       5\n",
              "9986          0       8\n",
              "9987          8       0\n",
              "9988          1       8\n",
              "9989          8       2\n",
              "9990          4       7\n",
              "9991          1       0\n",
              "9992          5       3\n",
              "9993          6       5\n",
              "9994          7       3\n",
              "9995          5       8\n",
              "9996          8       3\n",
              "9997          5       5\n",
              "9998          7       1\n",
              "9999          3       7"
            ]
          },
          "metadata": {
            "tags": []
          },
          "execution_count": 26
        }
      ]
    }
  ]
}